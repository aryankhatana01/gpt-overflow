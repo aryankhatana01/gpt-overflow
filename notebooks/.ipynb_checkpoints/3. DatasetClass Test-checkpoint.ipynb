{
 "cells": [
  {
   "cell_type": "code",
   "execution_count": 1,
   "id": "7179a337-ae69-459f-b21e-7725f460fc55",
   "metadata": {},
   "outputs": [],
   "source": [
    "import sys\n",
    "sys.path.append('../src')\n",
    "\n",
    "import pandas as pd"
   ]
  },
  {
   "cell_type": "code",
   "execution_count": 2,
   "id": "2a2e3a9f-2682-499b-9639-4e11b795aa49",
   "metadata": {},
   "outputs": [
    {
     "name": "stderr",
     "output_type": "stream",
     "text": [
      "/opt/homebrew/lib/python3.10/site-packages/tqdm/auto.py:22: TqdmWarning: IProgress not found. Please update jupyter and ipywidgets. See https://ipywidgets.readthedocs.io/en/stable/user_install.html\n",
      "  from .autonotebook import tqdm as notebook_tqdm\n"
     ]
    }
   ],
   "source": [
    "from dataset import StackOverflowGPTDataset"
   ]
  },
  {
   "cell_type": "code",
   "execution_count": 3,
   "id": "4ca18cce-5bfc-4206-b672-5b27b41b9325",
   "metadata": {},
   "outputs": [],
   "source": [
    "questions_df = pd.read_csv(\"../data/Questions_cleaned.csv\", encoding='latin-1')\n",
    "answers_df = pd.read_csv(\"../data/Answers.csv\", encoding='latin-1')"
   ]
  },
  {
   "cell_type": "code",
   "execution_count": 4,
   "id": "60e21e33-0955-4c46-9055-fcb29cb53206",
   "metadata": {},
   "outputs": [],
   "source": [
    "ds = StackOverflowGPTDataset(questions_df, answers_df, tokenizer=None)"
   ]
  },
  {
   "cell_type": "code",
   "execution_count": 5,
   "id": "9782d938-caaa-4b25-a9ed-7fdf3a152817",
   "metadata": {},
   "outputs": [
    {
     "data": {
      "text/plain": [
       "\"<|startoftext|>I am using the Photoshop's javascript API to find the fonts in a given PSD.\\n\\nGiven a font name returned by the API, I want to find the actual physical font file that that font name corresponds to on the disc.\\n\\nThis is all happening in a python program running on OSX so I guess I'm looking for one of:\\n\\n\\nSome Photoshop javascript\\nA Python function\\nAn OSX API that I can call from python\\n\\n<|sep|><p>open up a terminal (Applications-&gt;Utilities-&gt;Terminal) and type this in:</p>\\r\\n\\r\\n<pre><code>locate InsertFontHere<br></code></pre>\\r\\n\\r\\n<p>This will spit out every file that has the name you want.</p>\\r\\n\\r\\n<p>Warning: there may be alot to wade through.</p><|endoftext|>\""
      ]
     },
     "execution_count": 5,
     "metadata": {},
     "output_type": "execute_result"
    }
   ],
   "source": [
    "ds[0]"
   ]
  },
  {
   "cell_type": "code",
   "execution_count": 6,
   "id": "24d20d27-73a5-43ee-bbc2-327bcdf42349",
   "metadata": {},
   "outputs": [
    {
     "data": {
      "text/plain": [
       "\"<|startoftext|>I am using the Photoshop's javascript API to find the fonts in a given PSD.\\n\\nGiven a font name returned by the API, I want to find the actual physical font file that that font name corresponds to on the disc.\\n\\nThis is all happening in a python program running on OSX so I guess I'm looking for one of:\\n\\n\\nSome Photoshop javascript\\nA Python function\\nAn OSX API that I can call from python\\n\\n<|sep|><p>I haven't been able to find anything that does this directly.  I think you'll have to iterate through the various font folders on the system: <code>/System/Library/Fonts</code>, <code>/Library/Fonts</code>, and there can probably be a user-level directory as well <code>~/Library/Fonts</code>.</p>\\n<|endoftext|>\""
      ]
     },
     "execution_count": 6,
     "metadata": {},
     "output_type": "execute_result"
    }
   ],
   "source": [
    "ds[1]"
   ]
  },
  {
   "cell_type": "code",
   "execution_count": null,
   "id": "04fe0f6b-3c3b-47c2-bfd8-52c227ba7465",
   "metadata": {},
   "outputs": [],
   "source": []
  }
 ],
 "metadata": {
  "kernelspec": {
   "display_name": "Python 3 (ipykernel)",
   "language": "python",
   "name": "python3"
  },
  "language_info": {
   "codemirror_mode": {
    "name": "ipython",
    "version": 3
   },
   "file_extension": ".py",
   "mimetype": "text/x-python",
   "name": "python",
   "nbconvert_exporter": "python",
   "pygments_lexer": "ipython3",
   "version": "3.10.10"
  }
 },
 "nbformat": 4,
 "nbformat_minor": 5
}
