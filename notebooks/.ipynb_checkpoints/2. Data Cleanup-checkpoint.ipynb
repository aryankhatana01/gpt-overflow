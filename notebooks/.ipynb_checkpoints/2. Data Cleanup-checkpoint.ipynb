{
 "cells": [
  {
   "cell_type": "markdown",
   "id": "37b39189-6327-4555-897d-ac14f9ca937c",
   "metadata": {},
   "source": [
    "# Importing Packages"
   ]
  },
  {
   "cell_type": "code",
   "execution_count": 1,
   "id": "d6e625c0-89ec-474f-aa7f-a30009f8aa50",
   "metadata": {},
   "outputs": [],
   "source": [
    "import pandas as pd"
   ]
  },
  {
   "cell_type": "markdown",
   "id": "bfd99528-e40b-44d9-a279-6e0e2516444b",
   "metadata": {},
   "source": [
    "# Reading the data files"
   ]
  },
  {
   "cell_type": "code",
   "execution_count": null,
   "id": "89132115-a5fd-422a-ad23-470fce43982d",
   "metadata": {},
   "outputs": [],
   "source": [
    "questions_df = pd.read_csv(\"../data/Questions.csv\", encoding='latin-1')\n",
    "answers_df = pd.read_csv(\"../data/Answers.csv\", encoding='latin-1')"
   ]
  }
 ],
 "metadata": {
  "kernelspec": {
   "display_name": "Python 3 (ipykernel)",
   "language": "python",
   "name": "python3"
  },
  "language_info": {
   "codemirror_mode": {
    "name": "ipython",
    "version": 3
   },
   "file_extension": ".py",
   "mimetype": "text/x-python",
   "name": "python",
   "nbconvert_exporter": "python",
   "pygments_lexer": "ipython3",
   "version": "3.10.10"
  }
 },
 "nbformat": 4,
 "nbformat_minor": 5
}
