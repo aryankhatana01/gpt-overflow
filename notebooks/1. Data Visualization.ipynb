{
 "cells": [
  {
   "cell_type": "markdown",
   "id": "1d0e7921-1c2c-4b9b-99ad-e41788d9b7ea",
   "metadata": {},
   "source": [
    "# Data Description\n",
    "\n",
    "Context\n",
    "Full text of all questions and answers from Stack Overflow that are tagged with the python tag. Useful for natural language processing and community analysis. See also the dataset of R questions.\n",
    "\n",
    "Content\n",
    "This dataset is organized as two tables:\n",
    "\n",
    "- Questions contains the title, body, creation date, score, and owner ID for each Python question.\n",
    "- Answers contains the body, creation date, score, and owner ID for each of the answers to these questions. The ParentId column links back to the Questions table.\n",
    "\n",
    "Questions may be deleted by the user who posted them. They can also be closed by community vote, if the question is deemed off-topic for instance. Such questions are not included in this dataset.\n",
    "\n",
    "#### The dataset contains questions all questions asked between August 2, 2008 and Ocotober 19, 2016."
   ]
  },
  {
   "cell_type": "markdown",
   "id": "ab94456b-6512-4b71-b396-88f2ffe211a8",
   "metadata": {},
   "source": [
    "# Importing Packages"
   ]
  },
  {
   "cell_type": "code",
   "execution_count": 2,
   "id": "d794c156-b027-46e4-9d9e-67b254686f3b",
   "metadata": {},
   "outputs": [],
   "source": [
    "import pandas as pd\n",
    "import matplotlib.pyplot as plt"
   ]
  },
  {
   "cell_type": "code",
   "execution_count": 3,
   "id": "d16f9d98-1ed7-4717-a043-0d690399796f",
   "metadata": {},
   "outputs": [],
   "source": [
    "# This helps in printing the whole column without truncation for longer strings\n",
    "pd.set_option('display.max_rows', None)\n",
    "pd.set_option('display.max_columns', None)\n",
    "pd.set_option('display.max_colwidth', None)"
   ]
  },
  {
   "cell_type": "markdown",
   "id": "beffa124-70a2-4bad-804f-178129d093ec",
   "metadata": {},
   "source": [
    "# Reading the data files"
   ]
  },
  {
   "cell_type": "code",
   "execution_count": 4,
   "id": "b603752d-9603-40b1-9df5-f52a439596f3",
   "metadata": {},
   "outputs": [],
   "source": [
    "questions_df = pd.read_csv(\"../data/Questions.csv\", encoding='latin-1')\n",
    "answers_df = pd.read_csv(\"../data/Answers.csv\", encoding='latin-1')"
   ]
  },
  {
   "cell_type": "code",
   "execution_count": 5,
   "id": "eff79841-b44b-4560-bdae-e5e5d5af1805",
   "metadata": {},
   "outputs": [
    {
     "data": {
      "text/html": [
       "<div>\n",
       "<style scoped>\n",
       "    .dataframe tbody tr th:only-of-type {\n",
       "        vertical-align: middle;\n",
       "    }\n",
       "\n",
       "    .dataframe tbody tr th {\n",
       "        vertical-align: top;\n",
       "    }\n",
       "\n",
       "    .dataframe thead th {\n",
       "        text-align: right;\n",
       "    }\n",
       "</style>\n",
       "<table border=\"1\" class=\"dataframe\">\n",
       "  <thead>\n",
       "    <tr style=\"text-align: right;\">\n",
       "      <th></th>\n",
       "      <th>Id</th>\n",
       "      <th>OwnerUserId</th>\n",
       "      <th>CreationDate</th>\n",
       "      <th>Score</th>\n",
       "      <th>Title</th>\n",
       "      <th>Body</th>\n",
       "    </tr>\n",
       "  </thead>\n",
       "  <tbody>\n",
       "    <tr>\n",
       "      <th>0</th>\n",
       "      <td>469</td>\n",
       "      <td>147.0</td>\n",
       "      <td>2008-08-02T15:11:16Z</td>\n",
       "      <td>21</td>\n",
       "      <td>How can I find the full path to a font from its display name on a Mac?</td>\n",
       "      <td>&lt;p&gt;I am using the Photoshop's javascript API to find the fonts in a given PSD.&lt;/p&gt;\\n\\n&lt;p&gt;Given a font name returned by the API, I want to find the actual physical font file that that font name corresponds to on the disc.&lt;/p&gt;\\n\\n&lt;p&gt;This is all happening in a python program running on OSX so I guess I'm looking for one of:&lt;/p&gt;\\n\\n&lt;ul&gt;\\n&lt;li&gt;Some Photoshop javascript&lt;/li&gt;\\n&lt;li&gt;A Python function&lt;/li&gt;\\n&lt;li&gt;An OSX API that I can call from python&lt;/li&gt;\\n&lt;/ul&gt;\\n</td>\n",
       "    </tr>\n",
       "    <tr>\n",
       "      <th>1</th>\n",
       "      <td>502</td>\n",
       "      <td>147.0</td>\n",
       "      <td>2008-08-02T17:01:58Z</td>\n",
       "      <td>27</td>\n",
       "      <td>Get a preview JPEG of a PDF on Windows?</td>\n",
       "      <td>&lt;p&gt;I have a cross-platform (Python) application which needs to generate a JPEG preview of the first page of a PDF.&lt;/p&gt;\\n\\n&lt;p&gt;On the Mac I am spawning &lt;a href=\"http://developer.apple.com/documentation/Darwin/Reference/ManPages/man1/sips.1.html\"&gt;sips&lt;/a&gt;.  Is there something similarly simple I can do on Windows?&lt;/p&gt;\\n</td>\n",
       "    </tr>\n",
       "    <tr>\n",
       "      <th>2</th>\n",
       "      <td>535</td>\n",
       "      <td>154.0</td>\n",
       "      <td>2008-08-02T18:43:54Z</td>\n",
       "      <td>40</td>\n",
       "      <td>Continuous Integration System for a Python Codebase</td>\n",
       "      <td>&lt;p&gt;I'm starting work on a hobby project with a python codebase and would like to set up some form of continuous integration (i.e. running a battery of test-cases each time a check-in is made and sending nag e-mails to responsible persons when the tests fail) similar to CruiseControl or TeamCity.&lt;/p&gt;\\n\\n&lt;p&gt;I realize I could do this with hooks in most VCSes, but that requires that the tests run on the same machine as the version control server, which isn't as elegant as I would like. Does anyone have any suggestions for a small, user-friendly, open-source continuous integration system suitable for a Python codebase?&lt;/p&gt;\\n</td>\n",
       "    </tr>\n",
       "    <tr>\n",
       "      <th>3</th>\n",
       "      <td>594</td>\n",
       "      <td>116.0</td>\n",
       "      <td>2008-08-03T01:15:08Z</td>\n",
       "      <td>25</td>\n",
       "      <td>cx_Oracle: How do I iterate over a result set?</td>\n",
       "      <td>&lt;p&gt;There are several ways to iterate over a result set. What are the tradeoff of each?&lt;/p&gt;\\n</td>\n",
       "    </tr>\n",
       "    <tr>\n",
       "      <th>4</th>\n",
       "      <td>683</td>\n",
       "      <td>199.0</td>\n",
       "      <td>2008-08-03T13:19:16Z</td>\n",
       "      <td>28</td>\n",
       "      <td>Using 'in' to match an attribute of Python objects in an array</td>\n",
       "      <td>&lt;p&gt;I don't remember whether I was dreaming or not but I seem to recall there being a function which allowed something like,&lt;/p&gt;\\r\\n\\r\\n&lt;pre&gt;&lt;code&gt;foo in iter_attr(array of python objects, attribute name)&lt;/code&gt;&lt;/pre&gt;\\r\\n\\r\\n&lt;p&gt;I've looked over the docs but this kind of thing doesn't fall under any obvious listed headers&lt;/p&gt;</td>\n",
       "    </tr>\n",
       "  </tbody>\n",
       "</table>\n",
       "</div>"
      ],
      "text/plain": [
       "    Id  OwnerUserId          CreationDate  Score  \\\n",
       "0  469        147.0  2008-08-02T15:11:16Z     21   \n",
       "1  502        147.0  2008-08-02T17:01:58Z     27   \n",
       "2  535        154.0  2008-08-02T18:43:54Z     40   \n",
       "3  594        116.0  2008-08-03T01:15:08Z     25   \n",
       "4  683        199.0  2008-08-03T13:19:16Z     28   \n",
       "\n",
       "                                                                    Title  \\\n",
       "0  How can I find the full path to a font from its display name on a Mac?   \n",
       "1                                 Get a preview JPEG of a PDF on Windows?   \n",
       "2                     Continuous Integration System for a Python Codebase   \n",
       "3                          cx_Oracle: How do I iterate over a result set?   \n",
       "4          Using 'in' to match an attribute of Python objects in an array   \n",
       "\n",
       "                                                                                                                                                                                                                                                                                                                                                                                                                                                                                                                                                                                                                                                  Body  \n",
       "0                                                                                                                                                                             <p>I am using the Photoshop's javascript API to find the fonts in a given PSD.</p>\\n\\n<p>Given a font name returned by the API, I want to find the actual physical font file that that font name corresponds to on the disc.</p>\\n\\n<p>This is all happening in a python program running on OSX so I guess I'm looking for one of:</p>\\n\\n<ul>\\n<li>Some Photoshop javascript</li>\\n<li>A Python function</li>\\n<li>An OSX API that I can call from python</li>\\n</ul>\\n  \n",
       "1                                                                                                                                                                                                                                                                                                                        <p>I have a cross-platform (Python) application which needs to generate a JPEG preview of the first page of a PDF.</p>\\n\\n<p>On the Mac I am spawning <a href=\"http://developer.apple.com/documentation/Darwin/Reference/ManPages/man1/sips.1.html\">sips</a>.  Is there something similarly simple I can do on Windows?</p>\\n  \n",
       "2  <p>I'm starting work on a hobby project with a python codebase and would like to set up some form of continuous integration (i.e. running a battery of test-cases each time a check-in is made and sending nag e-mails to responsible persons when the tests fail) similar to CruiseControl or TeamCity.</p>\\n\\n<p>I realize I could do this with hooks in most VCSes, but that requires that the tests run on the same machine as the version control server, which isn't as elegant as I would like. Does anyone have any suggestions for a small, user-friendly, open-source continuous integration system suitable for a Python codebase?</p>\\n  \n",
       "3                                                                                                                                                                                                                                                                                                                                                                                                                                                                                                                                                         <p>There are several ways to iterate over a result set. What are the tradeoff of each?</p>\\n  \n",
       "4                                                                                                                                                                                                                                                                                                                <p>I don't remember whether I was dreaming or not but I seem to recall there being a function which allowed something like,</p>\\r\\n\\r\\n<pre><code>foo in iter_attr(array of python objects, attribute name)</code></pre>\\r\\n\\r\\n<p>I've looked over the docs but this kind of thing doesn't fall under any obvious listed headers</p>  "
      ]
     },
     "execution_count": 5,
     "metadata": {},
     "output_type": "execute_result"
    }
   ],
   "source": [
    "questions_df.head()"
   ]
  },
  {
   "cell_type": "code",
   "execution_count": 6,
   "id": "67bdc491-8b69-4461-bd6d-aad9644fc647",
   "metadata": {},
   "outputs": [
    {
     "data": {
      "text/html": [
       "<div>\n",
       "<style scoped>\n",
       "    .dataframe tbody tr th:only-of-type {\n",
       "        vertical-align: middle;\n",
       "    }\n",
       "\n",
       "    .dataframe tbody tr th {\n",
       "        vertical-align: top;\n",
       "    }\n",
       "\n",
       "    .dataframe thead th {\n",
       "        text-align: right;\n",
       "    }\n",
       "</style>\n",
       "<table border=\"1\" class=\"dataframe\">\n",
       "  <thead>\n",
       "    <tr style=\"text-align: right;\">\n",
       "      <th></th>\n",
       "      <th>Id</th>\n",
       "      <th>OwnerUserId</th>\n",
       "      <th>CreationDate</th>\n",
       "      <th>ParentId</th>\n",
       "      <th>Score</th>\n",
       "      <th>Body</th>\n",
       "    </tr>\n",
       "  </thead>\n",
       "  <tbody>\n",
       "    <tr>\n",
       "      <th>0</th>\n",
       "      <td>497</td>\n",
       "      <td>50.0</td>\n",
       "      <td>2008-08-02T16:56:53Z</td>\n",
       "      <td>469</td>\n",
       "      <td>4</td>\n",
       "      <td>&lt;p&gt;open up a terminal (Applications-&amp;gt;Utilities-&amp;gt;Terminal) and type this in:&lt;/p&gt;\\r\\n\\r\\n&lt;pre&gt;&lt;code&gt;locate InsertFontHere&lt;br&gt;&lt;/code&gt;&lt;/pre&gt;\\r\\n\\r\\n&lt;p&gt;This will spit out every file that has the name you want.&lt;/p&gt;\\r\\n\\r\\n&lt;p&gt;Warning: there may be alot to wade through.&lt;/p&gt;</td>\n",
       "    </tr>\n",
       "    <tr>\n",
       "      <th>1</th>\n",
       "      <td>518</td>\n",
       "      <td>153.0</td>\n",
       "      <td>2008-08-02T17:42:28Z</td>\n",
       "      <td>469</td>\n",
       "      <td>2</td>\n",
       "      <td>&lt;p&gt;I haven't been able to find anything that does this directly.  I think you'll have to iterate through the various font folders on the system: &lt;code&gt;/System/Library/Fonts&lt;/code&gt;, &lt;code&gt;/Library/Fonts&lt;/code&gt;, and there can probably be a user-level directory as well &lt;code&gt;~/Library/Fonts&lt;/code&gt;.&lt;/p&gt;\\n</td>\n",
       "    </tr>\n",
       "    <tr>\n",
       "      <th>2</th>\n",
       "      <td>536</td>\n",
       "      <td>161.0</td>\n",
       "      <td>2008-08-02T18:49:07Z</td>\n",
       "      <td>502</td>\n",
       "      <td>9</td>\n",
       "      <td>&lt;p&gt;You can use ImageMagick's convert utility for this, see some examples in &lt;a href=\"https://web.archive.org/web/20120413111338/http://studio.imagemagick.org/pipermail/magick-users/2002-May/002636.html\" rel=\"nofollow\"&gt;http://studio.imagemagick.org/pipermail/magick-users/2002-May/002636.html&lt;/a&gt;\\n:&lt;/p&gt;\\n\\n&lt;blockquote&gt;\\n&lt;pre&gt;&lt;code&gt;Convert taxes.pdf taxes.jpg \\n&lt;/code&gt;&lt;/pre&gt;\\n  \\n  &lt;p&gt;Will convert a two page PDF file into [2] jpeg files: taxes.jpg.0,\\n  taxes.jpg.1&lt;/p&gt;\\n  \\n  &lt;p&gt;I can also convert these JPEGS to a thumbnail as follows:&lt;/p&gt;\\n\\n&lt;pre&gt;&lt;code&gt;convert -size 120x120 taxes.jpg.0 -geometry 120x120 +profile '*' thumbnail.jpg\\n&lt;/code&gt;&lt;/pre&gt;\\n  \\n  &lt;p&gt;I can even convert the PDF directly to a jpeg thumbnail as follows:&lt;/p&gt;\\n\\n&lt;pre&gt;&lt;code&gt;convert -size 120x120 taxes.pdf -geometry 120x120 +profile '*' thumbnail.jpg\\n&lt;/code&gt;&lt;/pre&gt;\\n  \\n  &lt;p&gt;This will result in a thumbnail.jpg.0 and thumbnail.jpg.1 for the two\\n  pages.&lt;/p&gt;\\n&lt;/blockquote&gt;\\n</td>\n",
       "    </tr>\n",
       "    <tr>\n",
       "      <th>3</th>\n",
       "      <td>538</td>\n",
       "      <td>156.0</td>\n",
       "      <td>2008-08-02T18:56:56Z</td>\n",
       "      <td>535</td>\n",
       "      <td>23</td>\n",
       "      <td>&lt;p&gt;One possibility is Hudson.  It's written in Java, but there's integration with Python projects:&lt;/p&gt;\\n\\n&lt;blockquote&gt;\\n  &lt;p&gt;&lt;a href=\"http://redsolo.blogspot.com/2007/11/hudson-embraces-python.html\" rel=\"nofollow\"&gt;Hudson embraces Python&lt;/a&gt;&lt;/p&gt;\\n&lt;/blockquote&gt;\\n\\n&lt;p&gt;I've never tried it myself, however.&lt;/p&gt;\\n\\n&lt;p&gt;(&lt;strong&gt;Update&lt;/strong&gt;, Sept. 2011: After a trademark dispute Hudson has been renamed to &lt;a href=\"http://jenkins-ci.org/\" rel=\"nofollow\"&gt;Jenkins&lt;/a&gt;.)&lt;/p&gt;\\n</td>\n",
       "    </tr>\n",
       "    <tr>\n",
       "      <th>4</th>\n",
       "      <td>541</td>\n",
       "      <td>157.0</td>\n",
       "      <td>2008-08-02T19:06:40Z</td>\n",
       "      <td>535</td>\n",
       "      <td>20</td>\n",
       "      <td>&lt;p&gt;We run &lt;a href=\"http://buildbot.net/trac\"&gt;Buildbot - Trac&lt;/a&gt; at work, I haven't used it too much since my code base isn't part of the release cycle yet. But we run the tests on different environments (OSX/Linux/Win) and it sends emails --and it's written in python.&lt;/p&gt;</td>\n",
       "    </tr>\n",
       "  </tbody>\n",
       "</table>\n",
       "</div>"
      ],
      "text/plain": [
       "    Id  OwnerUserId          CreationDate  ParentId  Score  \\\n",
       "0  497         50.0  2008-08-02T16:56:53Z       469      4   \n",
       "1  518        153.0  2008-08-02T17:42:28Z       469      2   \n",
       "2  536        161.0  2008-08-02T18:49:07Z       502      9   \n",
       "3  538        156.0  2008-08-02T18:56:56Z       535     23   \n",
       "4  541        157.0  2008-08-02T19:06:40Z       535     20   \n",
       "\n",
       "                                                                                                                                                                                                                                                                                                                                                                                                                                                                                                                                                                                                                                                                                                                                                                                                                                                                                                                                                                                    Body  \n",
       "0                                                                                                                                                                                                                                                                                                                                                                                                                                                                                                                                                                                                                                                                                                       <p>open up a terminal (Applications-&gt;Utilities-&gt;Terminal) and type this in:</p>\\r\\n\\r\\n<pre><code>locate InsertFontHere<br></code></pre>\\r\\n\\r\\n<p>This will spit out every file that has the name you want.</p>\\r\\n\\r\\n<p>Warning: there may be alot to wade through.</p>  \n",
       "1                                                                                                                                                                                                                                                                                                                                                                                                                                                                                                                                                                                                                                                                         <p>I haven't been able to find anything that does this directly.  I think you'll have to iterate through the various font folders on the system: <code>/System/Library/Fonts</code>, <code>/Library/Fonts</code>, and there can probably be a user-level directory as well <code>~/Library/Fonts</code>.</p>\\n  \n",
       "2  <p>You can use ImageMagick's convert utility for this, see some examples in <a href=\"https://web.archive.org/web/20120413111338/http://studio.imagemagick.org/pipermail/magick-users/2002-May/002636.html\" rel=\"nofollow\">http://studio.imagemagick.org/pipermail/magick-users/2002-May/002636.html</a>\\n:</p>\\n\\n<blockquote>\\n<pre><code>Convert taxes.pdf taxes.jpg \\n</code></pre>\\n  \\n  <p>Will convert a two page PDF file into [2] jpeg files: taxes.jpg.0,\\n  taxes.jpg.1</p>\\n  \\n  <p>I can also convert these JPEGS to a thumbnail as follows:</p>\\n\\n<pre><code>convert -size 120x120 taxes.jpg.0 -geometry 120x120 +profile '*' thumbnail.jpg\\n</code></pre>\\n  \\n  <p>I can even convert the PDF directly to a jpeg thumbnail as follows:</p>\\n\\n<pre><code>convert -size 120x120 taxes.pdf -geometry 120x120 +profile '*' thumbnail.jpg\\n</code></pre>\\n  \\n  <p>This will result in a thumbnail.jpg.0 and thumbnail.jpg.1 for the two\\n  pages.</p>\\n</blockquote>\\n  \n",
       "3                                                                                                                                                                                                                                                                                                                                                                                                                                                                                                <p>One possibility is Hudson.  It's written in Java, but there's integration with Python projects:</p>\\n\\n<blockquote>\\n  <p><a href=\"http://redsolo.blogspot.com/2007/11/hudson-embraces-python.html\" rel=\"nofollow\">Hudson embraces Python</a></p>\\n</blockquote>\\n\\n<p>I've never tried it myself, however.</p>\\n\\n<p>(<strong>Update</strong>, Sept. 2011: After a trademark dispute Hudson has been renamed to <a href=\"http://jenkins-ci.org/\" rel=\"nofollow\">Jenkins</a>.)</p>\\n  \n",
       "4                                                                                                                                                                                                                                                                                                                                                                                                                                                                                                                                                                                                                                                                                                      <p>We run <a href=\"http://buildbot.net/trac\">Buildbot - Trac</a> at work, I haven't used it too much since my code base isn't part of the release cycle yet. But we run the tests on different environments (OSX/Linux/Win) and it sends emails --and it's written in python.</p>  "
      ]
     },
     "execution_count": 6,
     "metadata": {},
     "output_type": "execute_result"
    }
   ],
   "source": [
    "answers_df.head()"
   ]
  },
  {
   "cell_type": "code",
   "execution_count": 7,
   "id": "af7fc46e-4cd9-45e7-abd6-c4a722fb13ef",
   "metadata": {},
   "outputs": [
    {
     "data": {
      "text/plain": [
       "607282"
      ]
     },
     "execution_count": 7,
     "metadata": {},
     "output_type": "execute_result"
    }
   ],
   "source": [
    "questions_df.Id.nunique() # There are 607282 unique questions in the dataset"
   ]
  },
  {
   "cell_type": "code",
   "execution_count": 8,
   "id": "d3c8d0ff-6f15-484a-a5e4-14501b5e2763",
   "metadata": {},
   "outputs": [
    {
     "data": {
      "text/plain": [
       "539238"
      ]
     },
     "execution_count": 8,
     "metadata": {},
     "output_type": "execute_result"
    }
   ],
   "source": [
    "answers_df.ParentId.nunique() # There are 539238 answers in the dataset"
   ]
  },
  {
   "cell_type": "markdown",
   "id": "73bc6cc7-8803-43eb-9706-672d81fd44b4",
   "metadata": {},
   "source": [
    "The `ParentId` column in the `answers_df` links to the `questions_df` table. That means for example - all `ParentId = 469` in the `answers_df` are the answers to the question with `Id = 469` in the `questions_df`."
   ]
  },
  {
   "cell_type": "markdown",
   "id": "bad47c56-c086-46c8-ad05-a5202f126378",
   "metadata": {},
   "source": [
    "The above shows that not all the questions have been answered but some questions might also have more than one answers.\n",
    "So essentially, there are `607282` unique questions out of which only `539238` have been answered."
   ]
  },
  {
   "cell_type": "code",
   "execution_count": 9,
   "id": "9ab6b017-6a50-4801-9cf4-d4b4b87cd568",
   "metadata": {},
   "outputs": [
    {
     "data": {
      "text/html": [
       "<div>\n",
       "<style scoped>\n",
       "    .dataframe tbody tr th:only-of-type {\n",
       "        vertical-align: middle;\n",
       "    }\n",
       "\n",
       "    .dataframe tbody tr th {\n",
       "        vertical-align: top;\n",
       "    }\n",
       "\n",
       "    .dataframe thead th {\n",
       "        text-align: right;\n",
       "    }\n",
       "</style>\n",
       "<table border=\"1\" class=\"dataframe\">\n",
       "  <thead>\n",
       "    <tr style=\"text-align: right;\">\n",
       "      <th></th>\n",
       "      <th>Id</th>\n",
       "      <th>OwnerUserId</th>\n",
       "      <th>CreationDate</th>\n",
       "      <th>Score</th>\n",
       "      <th>Title</th>\n",
       "      <th>Body</th>\n",
       "    </tr>\n",
       "  </thead>\n",
       "  <tbody>\n",
       "    <tr>\n",
       "      <th>0</th>\n",
       "      <td>469</td>\n",
       "      <td>147.0</td>\n",
       "      <td>2008-08-02T15:11:16Z</td>\n",
       "      <td>21</td>\n",
       "      <td>How can I find the full path to a font from its display name on a Mac?</td>\n",
       "      <td>&lt;p&gt;I am using the Photoshop's javascript API to find the fonts in a given PSD.&lt;/p&gt;\\n\\n&lt;p&gt;Given a font name returned by the API, I want to find the actual physical font file that that font name corresponds to on the disc.&lt;/p&gt;\\n\\n&lt;p&gt;This is all happening in a python program running on OSX so I guess I'm looking for one of:&lt;/p&gt;\\n\\n&lt;ul&gt;\\n&lt;li&gt;Some Photoshop javascript&lt;/li&gt;\\n&lt;li&gt;A Python function&lt;/li&gt;\\n&lt;li&gt;An OSX API that I can call from python&lt;/li&gt;\\n&lt;/ul&gt;\\n</td>\n",
       "    </tr>\n",
       "  </tbody>\n",
       "</table>\n",
       "</div>"
      ],
      "text/plain": [
       "    Id  OwnerUserId          CreationDate  Score  \\\n",
       "0  469        147.0  2008-08-02T15:11:16Z     21   \n",
       "\n",
       "                                                                    Title  \\\n",
       "0  How can I find the full path to a font from its display name on a Mac?   \n",
       "\n",
       "                                                                                                                                                                                                                                                                                                                                                                                                                                                                       Body  \n",
       "0  <p>I am using the Photoshop's javascript API to find the fonts in a given PSD.</p>\\n\\n<p>Given a font name returned by the API, I want to find the actual physical font file that that font name corresponds to on the disc.</p>\\n\\n<p>This is all happening in a python program running on OSX so I guess I'm looking for one of:</p>\\n\\n<ul>\\n<li>Some Photoshop javascript</li>\\n<li>A Python function</li>\\n<li>An OSX API that I can call from python</li>\\n</ul>\\n  "
      ]
     },
     "execution_count": 9,
     "metadata": {},
     "output_type": "execute_result"
    }
   ],
   "source": [
    "# Let's print a sample question and its corresponding answer(s)\n",
    "sample_question_id = 469 # A sample questions id from the dataset\n",
    "sample_row = questions_df.loc[questions_df.Id == sample_question_id] # This gets the whole row where Id = 469\n",
    "sample_row"
   ]
  },
  {
   "cell_type": "code",
   "execution_count": 10,
   "id": "5fc61d11-a988-4440-a8b2-67c24e416cdd",
   "metadata": {},
   "outputs": [
    {
     "data": {
      "text/plain": [
       "0    How can I find the full path to a font from its display name on a Mac?\n",
       "Name: Title, dtype: object"
      ]
     },
     "execution_count": 10,
     "metadata": {},
     "output_type": "execute_result"
    }
   ],
   "source": [
    "sample_row.Title # prints the title of the sample question"
   ]
  },
  {
   "cell_type": "code",
   "execution_count": 11,
   "id": "8c5ef53b-b6e4-4e89-9f5b-49ef682d7243",
   "metadata": {},
   "outputs": [
    {
     "data": {
      "text/html": [
       "<div>\n",
       "<style scoped>\n",
       "    .dataframe tbody tr th:only-of-type {\n",
       "        vertical-align: middle;\n",
       "    }\n",
       "\n",
       "    .dataframe tbody tr th {\n",
       "        vertical-align: top;\n",
       "    }\n",
       "\n",
       "    .dataframe thead th {\n",
       "        text-align: right;\n",
       "    }\n",
       "</style>\n",
       "<table border=\"1\" class=\"dataframe\">\n",
       "  <thead>\n",
       "    <tr style=\"text-align: right;\">\n",
       "      <th></th>\n",
       "      <th>Id</th>\n",
       "      <th>OwnerUserId</th>\n",
       "      <th>CreationDate</th>\n",
       "      <th>ParentId</th>\n",
       "      <th>Score</th>\n",
       "      <th>Body</th>\n",
       "    </tr>\n",
       "  </thead>\n",
       "  <tbody>\n",
       "    <tr>\n",
       "      <th>0</th>\n",
       "      <td>497</td>\n",
       "      <td>50.0</td>\n",
       "      <td>2008-08-02T16:56:53Z</td>\n",
       "      <td>469</td>\n",
       "      <td>4</td>\n",
       "      <td>&lt;p&gt;open up a terminal (Applications-&amp;gt;Utilities-&amp;gt;Terminal) and type this in:&lt;/p&gt;\\r\\n\\r\\n&lt;pre&gt;&lt;code&gt;locate InsertFontHere&lt;br&gt;&lt;/code&gt;&lt;/pre&gt;\\r\\n\\r\\n&lt;p&gt;This will spit out every file that has the name you want.&lt;/p&gt;\\r\\n\\r\\n&lt;p&gt;Warning: there may be alot to wade through.&lt;/p&gt;</td>\n",
       "    </tr>\n",
       "    <tr>\n",
       "      <th>1</th>\n",
       "      <td>518</td>\n",
       "      <td>153.0</td>\n",
       "      <td>2008-08-02T17:42:28Z</td>\n",
       "      <td>469</td>\n",
       "      <td>2</td>\n",
       "      <td>&lt;p&gt;I haven't been able to find anything that does this directly.  I think you'll have to iterate through the various font folders on the system: &lt;code&gt;/System/Library/Fonts&lt;/code&gt;, &lt;code&gt;/Library/Fonts&lt;/code&gt;, and there can probably be a user-level directory as well &lt;code&gt;~/Library/Fonts&lt;/code&gt;.&lt;/p&gt;\\n</td>\n",
       "    </tr>\n",
       "    <tr>\n",
       "      <th>38</th>\n",
       "      <td>3040</td>\n",
       "      <td>457.0</td>\n",
       "      <td>2008-08-06T03:01:23Z</td>\n",
       "      <td>469</td>\n",
       "      <td>12</td>\n",
       "      <td>&lt;p&gt;Unfortunately the only API that isn't deprecated is located in the ApplicationServices framework, which doesn't have a bridge support file, and thus isn't available in the bridge. If you're wanting to use ctypes, you can use ATSFontGetFileReference after looking up the ATSFontRef.&lt;/p&gt;\\r\\n\\r\\n&lt;p&gt;Cocoa doesn't have any native support, at least as of 10.5, for getting the location of a font.&lt;/p&gt;</td>\n",
       "    </tr>\n",
       "    <tr>\n",
       "      <th>3003</th>\n",
       "      <td>195170</td>\n",
       "      <td>745.0</td>\n",
       "      <td>2008-10-12T07:02:40Z</td>\n",
       "      <td>469</td>\n",
       "      <td>1</td>\n",
       "      <td>&lt;p&gt;There must be a method in Cocoa to get a list of fonts, then you would have to use the PyObjC bindings to call it..&lt;/p&gt;\\n\\n&lt;p&gt;Depending on what you need them for, you could probably just use something like the following..&lt;/p&gt;\\n\\n&lt;pre&gt;&lt;code&gt;import os\\ndef get_font_list():\\n    fonts = []\\n    for font_path in [\"/Library/Fonts\", os.path.expanduser(\"~/Library/Fonts\")]:\\n        if os.path.isdir(font_path):\\n            fonts.extend(\\n                [os.path.join(font_path, cur_font) \\n                 for cur_font in os.listdir(font_path)\\n                ]\\n            )\\n    return fonts\\n&lt;/code&gt;&lt;/pre&gt;\\n</td>\n",
       "    </tr>\n",
       "  </tbody>\n",
       "</table>\n",
       "</div>"
      ],
      "text/plain": [
       "          Id  OwnerUserId          CreationDate  ParentId  Score  \\\n",
       "0        497         50.0  2008-08-02T16:56:53Z       469      4   \n",
       "1        518        153.0  2008-08-02T17:42:28Z       469      2   \n",
       "38      3040        457.0  2008-08-06T03:01:23Z       469     12   \n",
       "3003  195170        745.0  2008-10-12T07:02:40Z       469      1   \n",
       "\n",
       "                                                                                                                                                                                                                                                                                                                                                                                                                                                                                                                                                                                                                                        Body  \n",
       "0                                                                                                                                                                                                                                                                                                                                                           <p>open up a terminal (Applications-&gt;Utilities-&gt;Terminal) and type this in:</p>\\r\\n\\r\\n<pre><code>locate InsertFontHere<br></code></pre>\\r\\n\\r\\n<p>This will spit out every file that has the name you want.</p>\\r\\n\\r\\n<p>Warning: there may be alot to wade through.</p>  \n",
       "1                                                                                                                                                                                                                                                                                                                             <p>I haven't been able to find anything that does this directly.  I think you'll have to iterate through the various font folders on the system: <code>/System/Library/Fonts</code>, <code>/Library/Fonts</code>, and there can probably be a user-level directory as well <code>~/Library/Fonts</code>.</p>\\n  \n",
       "38                                                                                                                                                                                                                            <p>Unfortunately the only API that isn't deprecated is located in the ApplicationServices framework, which doesn't have a bridge support file, and thus isn't available in the bridge. If you're wanting to use ctypes, you can use ATSFontGetFileReference after looking up the ATSFontRef.</p>\\r\\n\\r\\n<p>Cocoa doesn't have any native support, at least as of 10.5, for getting the location of a font.</p>  \n",
       "3003  <p>There must be a method in Cocoa to get a list of fonts, then you would have to use the PyObjC bindings to call it..</p>\\n\\n<p>Depending on what you need them for, you could probably just use something like the following..</p>\\n\\n<pre><code>import os\\ndef get_font_list():\\n    fonts = []\\n    for font_path in [\"/Library/Fonts\", os.path.expanduser(\"~/Library/Fonts\")]:\\n        if os.path.isdir(font_path):\\n            fonts.extend(\\n                [os.path.join(font_path, cur_font) \\n                 for cur_font in os.listdir(font_path)\\n                ]\\n            )\\n    return fonts\\n</code></pre>\\n  "
      ]
     },
     "execution_count": 11,
     "metadata": {},
     "output_type": "execute_result"
    }
   ],
   "source": [
    "# Let's print all the answers to this question\n",
    "answers_df.loc[answers_df.ParentId == sample_question_id] # This prints all the answers to the question with question_id = 469"
   ]
  },
  {
   "cell_type": "markdown",
   "id": "deed0685-9245-4daf-a5ca-362af7ffc5f7",
   "metadata": {},
   "source": [
    "### Note #1 : The score is the number of upvoted each of these answers got. Maybe I'll be using the answer with maximum upvotes instead of all the answers to reduce training time(Not sure though)."
   ]
  },
  {
   "cell_type": "markdown",
   "id": "06214427-c313-446c-af81-d5de89a5fef0",
   "metadata": {},
   "source": [
    "## Checking the number of Questions with no answers"
   ]
  },
  {
   "cell_type": "code",
   "execution_count": 12,
   "id": "f867e47b-37e3-471f-90e9-069f43bbc182",
   "metadata": {},
   "outputs": [
    {
     "data": {
      "text/plain": [
       "68044"
      ]
     },
     "execution_count": 12,
     "metadata": {},
     "output_type": "execute_result"
    }
   ],
   "source": [
    "def get_list_of_all_unanswered_questions():\n",
    "    '''\n",
    "    Returns a list of question_ids of unanswered questions if ever needed\n",
    "    '''\n",
    "    not_answered_questions = []\n",
    "    list_of_all_questions_ids = questions_df.Id.unique()\n",
    "    list_of_all_answered_questions = answers_df.ParentId.unique()\n",
    "    for q_id in list_of_all_questions_ids:\n",
    "        if q_id not in list_of_all_answered_questions:\n",
    "            not_answered_questions.append(q_id)\n",
    "    return not_answered_questions\n",
    "\n",
    "# list_of_all_unanswered_questions = get_list_of_all_unanswered_questions()\n",
    "num_of_unanswered_questions = questions_df.Id.nunique() - answers_df.ParentId.nunique() # Prints the number of unanswered questions [This can also be done by questions_df.Id.nunique() - answers_df.ParentId.nunique()]\n",
    "num_of_unanswered_questions"
   ]
  },
  {
   "cell_type": "code",
   "execution_count": 13,
   "id": "b958d1f2-0126-4ad6-a814-194dc8537ea5",
   "metadata": {},
   "outputs": [
    {
     "data": {
      "image/png": "[encoded data removed]",
      "text/plain": [
       "<Figure size 1000x500 with 1 Axes>"
      ]
     },
     "metadata": {},
     "output_type": "display_data"
    }
   ],
   "source": [
    "data = {\"Answered questions\": answers_df.ParentId.nunique(), \n",
    "        \"Unanswered questions\": num_of_unanswered_questions}\n",
    "\n",
    "desc = list(data.keys())\n",
    "values = list(data.values())\n",
    "  \n",
    "fig = plt.figure(figsize = (10, 5))\n",
    " \n",
    "# creating the bar plot\n",
    "plt.bar(desc, values, color ='maroon',\n",
    "        width = 0.4)\n",
    "\n",
    "plt.title(\"Answered vs Unanswered questions\")\n",
    "plt.show()"
   ]
  },
  {
   "cell_type": "markdown",
   "id": "88444550-8da1-40f6-a09d-6370afb42411",
   "metadata": {
    "tags": []
   },
   "source": [
    "### Note #2 : Hmm... there are `68044` unanswered questions; which is approximately 10% of the questions, these questions with no answers will be dropped from the dataset"
   ]
  },
  {
   "cell_type": "code",
   "execution_count": null,
   "id": "839fe38c-fbb1-467d-a88d-42816831fa06",
   "metadata": {},
   "outputs": [],
   "source": []
  }
 ],
 "metadata": {
  "kernelspec": {
   "display_name": "Python 3 (ipykernel)",
   "language": "python",
   "name": "python3"
  },
  "language_info": {
   "codemirror_mode": {
    "name": "ipython",
    "version": 3
   },
   "file_extension": ".py",
   "mimetype": "text/x-python",
   "name": "python",
   "nbconvert_exporter": "python",
   "pygments_lexer": "ipython3",
   "version": "3.10.10"
  }
 },
 "nbformat": 4,
 "nbformat_minor": 5
}
